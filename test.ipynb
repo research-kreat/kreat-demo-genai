{
 "cells": [
  {
   "cell_type": "code",
   "execution_count": 1,
   "metadata": {},
   "outputs": [],
   "source": [
    "from langchain_groq import ChatGroq\n",
    "from langchain_groq import ChatGroq\n",
    "llm = ChatGroq(temperature=0.5, groq_api_key=\"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\", model_name=\"llama3-70b-8192\")"
   ]
  },
  {
   "cell_type": "code",
   "execution_count": 22,
   "metadata": {},
   "outputs": [],
   "source": [
    "import os\n",
    "\n",
    "os.environ[\"AZURE_OPENAI_API_KEY\"] = \"7b39a8de950b483cbd70da9441c53f1c\"\n",
    "os.environ[\"AZURE_OPENAI_ENDPOINT\"] = \"https://kreatllm.openai.azure.com/\"\n",
    "os.environ[\"AZURE_OPENAI_API_VERSION\"] = \"2024-02-01\"\n",
    "os.environ[\"AZURE_OPENAI_CHAT_DEPLOYMENT_NAME\"] = \"kreat35\""
   ]
  },
  {
   "cell_type": "code",
   "execution_count": 33,
   "metadata": {},
   "outputs": [],
   "source": [
    "from IPython.display import Markdown"
   ]
  },
  {
   "cell_type": "code",
   "execution_count": 24,
   "metadata": {},
   "outputs": [],
   "source": [
    "# Use these variables in your code\n",
    "from langchain_openai import AzureChatOpenAI\n",
    "\n",
    "llm = AzureChatOpenAI(\n",
    "    openai_api_key=api_key,\n",
    "    openai_api_version=api_version,\n",
    "    azure_deployment=deployment_name,\n",
    ")\n"
   ]
  },
  {
   "cell_type": "code",
   "execution_count": 30,
   "metadata": {},
   "outputs": [],
   "source": [
    "def classify(problem):\n",
    "    prompt = f'''\n",
    "    You are Kreat.ai who helps innovators with their innovations. \n",
    "    Given a problem statement. Your job is classify the problem statement into one of the following:\n",
    "    1. Problem  \n",
    "    2. Possibility\n",
    "    3. Idea\n",
    "    4. Moonshot(IFR)\n",
    "\n",
    "    ## Definitions and boundaries of each type ##\n",
    "\n",
    "    ### POSSIBILITIES ###\n",
    "    Definition: Potential options or alternatives that could be explored or realized, often broader and more abstract than specific ideas or opportunities.\n",
    "    When to use:\n",
    "    Exploring potential futures without commitment\n",
    "    Brainstorming without constraints\n",
    "    Considering high-level strategic directions\n",
    "    Engaging in foresight exercises\n",
    "    Example: \"The possibility of brain-computer interfaces becoming mainstream in the next 20 years.\"\n",
    "    Key characteristics:\n",
    "    Broad and abstract\n",
    "    Future-oriented\n",
    "    Speculative\n",
    "    Can lead to multiple ideas or opportunities\n",
    "\n",
    "    ### IDEAS ### \n",
    "    Definition: Specific thoughts or suggestions for a product, service, or solution.\n",
    "    When to use:\n",
    "    Proposing concrete solutions or innovations\n",
    "    Responding to identified problems or needs\n",
    "    Suggesting improvements to existing products/services\n",
    "    Example: \"A smart refrigerator that automatically orders groceries when supplies are low.\"\n",
    "    Key characteristics:\n",
    "    Specific and concrete\n",
    "    Actionable\n",
    "    Often combines existing concepts in novel ways\n",
    "    Can be developed and implemented\n",
    "\n",
    "\n",
    "    ### PROBLEMS ###\n",
    "    Definition: Situations or challenges that need to be addressed, solved, or resolved.\n",
    "    When to use:\n",
    "    Identifying barriers or obstacles to progress\n",
    "    Describing negative situations that require solutions\n",
    "    Highlighting gaps between current and desired states\n",
    "    Example: \"High employee turnover in our customer service department.\"\n",
    "    Key characteristics:\n",
    "    Describes a negative or undesirable situation\n",
    "    Often measurable or observable\n",
    "    Implies a need for a solution\n",
    "    Can lead to the identification of needs or generation of ideas\n",
    "\n",
    "\n",
    "    ### MOONSHOTS / IDEAL FINAL RESULTS (IFR) ###\n",
    "    Definition: Highly ambitious, seemingly impossible goals (Moonshots) or perfect solutions without compromises (IFR).\n",
    "    When to use:\n",
    "    Setting audacious, transformative goals\n",
    "    Imagining perfect solutions without constraints\n",
    "    Pushing the boundaries of what's considered possible\n",
    "    Inspiring radical innovation\n",
    "    Example (Moonshot): \"Reverse aging and extend human lifespan to 150 years.\" Example (IFR): \"A transportation system that is instantaneous, free, and has zero environmental impact.\"\n",
    "    Key characteristics:\n",
    "    Extremely ambitious or idealistic\n",
    "    Often seems impossible with current technology\n",
    "    Inspires breakthrough thinking\n",
    "    Challenges fundamental assumptions\n",
    "\n",
    "    ## Guidelines for you to classify ##\n",
    "    If your thought is about a potential future development without specific implementation details, it's likely a POSSIBILITY.\n",
    "    If you have a specific, actionable proposal for a product, service, or solution, it's probably an IDEA.\n",
    "    If you're describing a negative situation or challenge that needs addressing, you're likely identifying a PROBLEM.\n",
    "    If your concept is extremely ambitious, seemingly impossible, or describes a perfect solution without compromises, it fits into the MOONSHOT/IFR category.\n",
    "\n",
    "\n",
    "    Now classify this Problem Statement into one of the types. Think step by Step. \n",
    "    Explain your reasoning stepwise as to why it is classified in that category and why is it not classified in the other categories.\n",
    "    Strictly use the above guidelines and definations of the classification given above.\n",
    "    Give the output in markdown format.\n",
    "    Problem: {problem}\n",
    "\n",
    "    Your Answer: \n",
    "    '''\n",
    "\n",
    "    response = llm.invoke(prompt)\n",
    "    return response.content"
   ]
  },
  {
   "cell_type": "code",
   "execution_count": 17,
   "metadata": {},
   "outputs": [
    {
     "name": "stdout",
     "output_type": "stream",
     "text": [
      "### Output ###\n",
      "I would classify the given problem statement as a **Moonshot (IFR)**.\n",
      "\n",
      "1. The problem statement is describing an ambitious, seemingly impossible goal of solving the global food problem through automation in agriculture.\n",
      "2. It is setting an audacious, transformative goal of addressing a significant global challenge.\n",
      "3. The statement is pushing the boundaries of what's considered possible in addressing food scarcity and agricultural productivity.\n",
      "4. It inspires radical innovation and challenges fundamental assumptions about traditional agriculture and food production methods.\n",
      "\n",
      "Therefore, the problem statement \"Automation in Agriculture will solve the Global Food Problem\" fits into the **Moonshot (IFR)** category.\n"
     ]
    }
   ],
   "source": [
    "problem  = \"Automation in Agriculture will solve the Global Food Problem\"\n",
    "print(classify(problem))"
   ]
  },
  {
   "cell_type": "code",
   "execution_count": 34,
   "metadata": {},
   "outputs": [
    {
     "data": {
      "text/markdown": [
       "### Classification: Possibility ###\n",
       "\n",
       "#### Reasoning: \n",
       "1. The problem statement does not provide specific implementation details or propose a concrete solution, so it is not an IDEA.\n",
       "2. The statement does not describe a negative situation or challenge that needs addressing, so it is not a PROBLEM.\n",
       "3. The statement is future-oriented and speculative, exploring the potential of automation in agriculture to solve the global food problem, making it a POSSIBILITY.\n",
       "4. The statement is broad and abstract, considering a high-level strategic direction, which aligns with the characteristics of a POSSIBILITY."
      ],
      "text/plain": [
       "<IPython.core.display.Markdown object>"
      ]
     },
     "metadata": {},
     "output_type": "display_data"
    }
   ],
   "source": [
    "problem  = \"Automation in Agriculture will solve the Global Food Problem\"\n",
    "display(Markdown(classify(problem)))"
   ]
  },
  {
   "cell_type": "code",
   "execution_count": 35,
   "metadata": {},
   "outputs": [
    {
     "data": {
      "text/markdown": [
       "### Classification ###\n",
       "I would classify the problem statement \"Automation in Agriculture will solve the Global Food Problem\" as a POSSIBILITY.\n",
       "\n",
       "### Reasoning ###\n",
       "1. The problem statement does not provide specific implementation details for how automation in agriculture will solve the global food problem. It is more of a potential future development without specific implementation details, which aligns with the characteristics of a POSSIBILITY.\n",
       "2. The problem statement does not propose a specific, actionable solution or innovation for addressing the global food problem. It does not provide a concrete proposal for a product, service, or solution, which is a key characteristic of an IDEA.\n",
       "3. The problem statement does not describe a negative situation or challenge that needs addressing. It is not highlighting a specific barrier or obstacle that needs to be resolved, which is a key characteristic of a PROBLEM.\n",
       "4. The problem statement is ambitious and future-oriented, imagining a potential solution without constraints, which aligns with the characteristics of a POSSIBILITY.\n",
       "\n",
       "Therefore, based on the guidelines and definitions provided, the problem statement \"Automation in Agriculture will solve the Global Food Problem\" is classified as a POSSIBILITY."
      ],
      "text/plain": [
       "<IPython.core.display.Markdown object>"
      ]
     },
     "metadata": {},
     "output_type": "display_data"
    }
   ],
   "source": [
    "problem  = \"Automation in Agriculture will solve the Global Food Problem\"\n",
    "display(Markdown(classify(problem)))"
   ]
  },
  {
   "cell_type": "code",
   "execution_count": 36,
   "metadata": {},
   "outputs": [
    {
     "data": {
      "text/markdown": [
       "### Problem Statement Classification ###\n",
       "\n",
       "#### Step 1: Identify the characteristics of the problem statement ####\n",
       "\n",
       "The problem statement \"Automation in Agriculture will solve the Global Food Problem\" describes a situation or challenge that needs to be addressed (lack of efficient food production) and implies a need for a solution (automation in agriculture).\n",
       "\n",
       "#### Step 2: Compare the problem statement with the characteristics of each category ####\n",
       "\n",
       "- Possibility: The problem statement is not a broad and abstract exploration of potential futures without commitment. It is a specific problem that needs to be addressed, so it does not fit the possibility category.\n",
       "- Idea: The problem statement does not propose a specific, actionable proposal for a product, service, or solution. It describes a problem and implies a need for a solution, so it does not fit the idea category.\n",
       "- Moonshot/IFR: The problem statement does not describe an extremely ambitious, seemingly impossible goal or a perfect solution without compromises. It focuses on addressing a current challenge, so it does not fit the moonshot/IFR category.\n",
       "\n",
       "#### Step 3: Classify the problem statement based on the comparison ####\n",
       "\n",
       "The problem statement \"Automation in Agriculture will solve the Global Food Problem\" fits into the PROBLEM category as it describes a negative situation (global food problem) that requires a solution (automation in agriculture).\n",
       "\n",
       "### Final Classification ###\n",
       "\n",
       "The problem statement is classified as a PROBLEM."
      ],
      "text/plain": [
       "<IPython.core.display.Markdown object>"
      ]
     },
     "metadata": {},
     "output_type": "display_data"
    }
   ],
   "source": [
    "problem  = \"Automation in Agriculture will solve the Global Food Problem\"\n",
    "display(Markdown(classify(problem)))"
   ]
  },
  {
   "cell_type": "code",
   "execution_count": 37,
   "metadata": {},
   "outputs": [
    {
     "data": {
      "text/markdown": [
       "## Classification: Possibility\n",
       "\n",
       "### Reasoning:\n",
       "1. The problem statement does not provide specific implementation details or propose a concrete solution, so it does not fit into the \"Idea\" category.\n",
       "2. The problem statement describes a potential future development (automation in agriculture) without specific implementation details, which aligns with the characteristics of a \"Possibility.\"\n",
       "3. The problem statement does not describe a negative situation or challenge that needs addressing, so it does not fit into the \"Problem\" category.\n",
       "4. The problem statement suggests a broad, abstract, and future-oriented concept, which aligns with the key characteristics of a \"Possibility.\"\n",
       "\n",
       "Therefore, the problem statement \"Automation in Agriculture will solve the Global Food Problem\" is classified as a \"Possibility.\""
      ],
      "text/plain": [
       "<IPython.core.display.Markdown object>"
      ]
     },
     "metadata": {},
     "output_type": "display_data"
    }
   ],
   "source": [
    "problem  = \"Automation in Agriculture will solve the Global Food Problem\"\n",
    "display(Markdown(classify(problem)))"
   ]
  }
 ],
 "metadata": {
  "kernelspec": {
   "display_name": "myenv",
   "language": "python",
   "name": "python3"
  },
  "language_info": {
   "codemirror_mode": {
    "name": "ipython",
    "version": 3
   },
   "file_extension": ".py",
   "mimetype": "text/x-python",
   "name": "python",
   "nbconvert_exporter": "python",
   "pygments_lexer": "ipython3",
   "version": "3.11.4"
  }
 },
 "nbformat": 4,
 "nbformat_minor": 2
}
